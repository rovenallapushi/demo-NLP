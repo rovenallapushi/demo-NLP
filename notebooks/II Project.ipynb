{
 "cells": [
  {
   "cell_type": "code",
   "execution_count": 1,
   "metadata": {},
   "outputs": [
    {
     "name": "stderr",
     "output_type": "stream",
     "text": [
      "C:\\Users\\roven\\AppData\\Local\\Packages\\PythonSoftwareFoundation.Python.3.10_qbz5n2kfra8p0\\LocalCache\\local-packages\\Python310\\site-packages\\tqdm\\auto.py:21: TqdmWarning: IProgress not found. Please update jupyter and ipywidgets. See https://ipywidgets.readthedocs.io/en/stable/user_install.html\n",
      "  from .autonotebook import tqdm as notebook_tqdm\n"
     ]
    }
   ],
   "source": [
    "from functools import partial\n",
    "from datasets import load_dataset\n",
    "import torch\n",
    "import torch.nn as nn"
   ]
  },
  {
   "cell_type": "code",
   "execution_count": 2,
   "metadata": {},
   "outputs": [],
   "source": [
    "class ArcEager:\n",
    "    def __init__(self, sentence):\n",
    "\n",
    "        # sentence is the input for which we want to build our Arc-Standard\n",
    "        self.sentence = sentence\n",
    "\n",
    "        # here we create the buffer having an array of indexes with the same length as the sentence\n",
    "        # basically, each word has its own index in this buffer\n",
    "        # we have initialized the buffer having all the words in the sentence\n",
    "\n",
    "        self.buffer = [i for i in range(len(self.sentence))] \n",
    "\n",
    "        # initialize the stack empty \n",
    "        \n",
    "        self.stack = []\n",
    "\n",
    "        # representation of the tree\n",
    "        # every word will have a -1 assigned -> no father has been assigned yet\n",
    "\n",
    "        self.arcs = [-1 for _ in range(len(self.sentence))]\n",
    "\n",
    "        # three shift moves to initialize the stack\n",
    "\n",
    "        # means that in the stack now is the ROOT\n",
    "        # self.shift() it calls a method that implements this operation; we will look at it after \n",
    "\n",
    "        self.shift() \n",
    "\n",
    "\n",
    "    def shift(self):\n",
    "       \n",
    "     b1 = self.buffer[0]\n",
    "     self.buffer = self.buffer[1:]\n",
    "     self.stack.append(b1)\n",
    "    \n",
    "    def left_arc(self): \n",
    "\n",
    "     o1 = self.stack.pop()\n",
    "     o2 = self.buffer[0]\n",
    "     self.arcs[o1] = o2\n",
    " \n",
    "    def right_arc(self):\n",
    "     o1 = self.buffer[0]\n",
    "     o2 = self.stack[-1]\n",
    "     self.arcs[o1] = o2\n",
    "     self.stack.append(o1)\n",
    "     self.buffer = self.buffer[1:]\n",
    "\n",
    "    def reduce(self):\n",
    "      o1 = self.stack.pop()\n",
    "\n",
    "    \n",
    "    def is_tree_final(self):\n",
    "     return len(self.stack) == 1 and len(self.buffer) == 0\n",
    "    \n",
    "\n",
    "    def print_configuration(self):\n",
    "\n",
    "      s = [self.sentence[i] for i in self.stack]\n",
    "      b = [self.sentence[i] for i in self.buffer]\n",
    "      print(s,b)\n",
    "      print(self.arcs)\n",
    "      "
   ]
  },
  {
   "cell_type": "code",
   "execution_count": 3,
   "metadata": {},
   "outputs": [
    {
     "name": "stdout",
     "output_type": "stream",
     "text": [
      "['<ROOT>'] ['He', 'wrote', 'her', 'a', 'letter', '.']\n",
      "[-1, -1, -1, -1, -1, -1, -1]\n"
     ]
    }
   ],
   "source": [
    "sentence = [\"<ROOT>\", \"He\",\"wrote\",\"her\",\"a\",\"letter\",\".\"]\n",
    "gold = [-1, 2, 0, 2, 5, 2, 2]\n",
    "\n",
    "parser = ArcEager(sentence)\n",
    "parser.print_configuration()"
   ]
  },
  {
   "cell_type": "code",
   "execution_count": 4,
   "metadata": {},
   "outputs": [],
   "source": [
    "class Oracle:\n",
    " \n",
    " def __init__(self, parser, gold_tree):\n",
    "  self.parser = parser\n",
    "  self.gold = gold_tree\n",
    "\n",
    " \n",
    " def has_head(self, top_stack):\n",
    "  if self.parser.arcs[top_stack] != -1:\n",
    "   return True\n",
    "  else:\n",
    "   return False\n",
    "\n",
    " def has_all_children(self, top_stack):\n",
    "  i = 0\n",
    "  for arc in self.gold:\n",
    "   if arc == top_stack:\n",
    "    if self.parser.arcs[i] != top_stack:\n",
    "     return False\n",
    "    i = i + 1\n",
    "  return True\n",
    " \n",
    " \n",
    " def is_right_arc_gold(self):\n",
    "  if len(self.parser.buffer) == 0:\n",
    "   return False\n",
    "  o1 = self.parser.stack[len(self.parser.stack)-1]\n",
    "  o2 = self.parser.buffer[0]\n",
    "  if self.gold[o2] != o1:\n",
    "   return False\n",
    "  \n",
    "  return True\n",
    " \n",
    " def  is_left_arc_gold(self):\n",
    "  if len(self.parser.buffer) == 0:\n",
    "   return False\n",
    "  o1 = self.parser.stack[len(self.parser.stack)-1]\n",
    "  o2 = self.parser.buffer[0]\n",
    "  if self.gold[o1] == o2 and self.parser.arcs[o1] != self.gold[o1] and o1 != -1:\n",
    "   return True\n",
    "  return False\n",
    "   \n",
    " def is_reduce_gold(self):\n",
    "  if len(self.parser.stack) <2:\n",
    "   return False\n",
    "  top_stack = self.parser.stack[-1]\n",
    "  if self.has_head(top_stack) and self.has_all_children(top_stack):\n",
    "   return True\n",
    "  return False\n",
    "  \n",
    "  \n",
    " def is_shift_gold(self):\n",
    "  if len(self.parser.buffer) == 0:\n",
    "   return False\n",
    "  if (self.is_left_arc_gold() or self.is_right_arc_gold or self.is_reduce_gold()):\n",
    "   return False\n",
    "  return True\n"
   ]
  },
  {
   "cell_type": "code",
   "execution_count": 5,
   "metadata": {},
   "outputs": [
    {
     "name": "stdout",
     "output_type": "stream",
     "text": [
      "['<ROOT>'] ['He', 'wrote', 'her', 'a', 'letter', '.']\n",
      "[-1, -1, -1, -1, -1, -1, -1]\n"
     ]
    }
   ],
   "source": [
    "sentence = [\"<ROOT>\", \"He\",\"wrote\",\"her\",\"a\",\"letter\",\".\"]\n",
    "gold = [-1, 2, 0, 2, 5, 2, 2]\n",
    "\n",
    "parser = ArcEager(sentence)\n",
    "oracle = Oracle(parser, gold)\n",
    "\n",
    "parser.print_configuration()"
   ]
  },
  {
   "cell_type": "code",
   "execution_count": 6,
   "metadata": {},
   "outputs": [
    {
     "ename": "KeyboardInterrupt",
     "evalue": "",
     "output_type": "error",
     "traceback": [
      "\u001b[1;31m---------------------------------------------------------------------------\u001b[0m",
      "\u001b[1;31mKeyboardInterrupt\u001b[0m                         Traceback (most recent call last)",
      "Cell \u001b[1;32mIn[6], line 8\u001b[0m\n\u001b[0;32m      6\u001b[0m     \u001b[39melif\u001b[39;00m oracle\u001b[39m.\u001b[39mis_reduce_gold():\n\u001b[0;32m      7\u001b[0m         parser\u001b[39m.\u001b[39mreduce()\n\u001b[1;32m----> 8\u001b[0m     \u001b[39melif\u001b[39;00m oracle\u001b[39m.\u001b[39;49mis_shift_gold():\n\u001b[0;32m      9\u001b[0m         parser\u001b[39m.\u001b[39mshift()\n\u001b[0;32m     11\u001b[0m \u001b[39mprint\u001b[39m(parser\u001b[39m.\u001b[39marcs)\n",
      "Cell \u001b[1;32mIn[4], line 55\u001b[0m, in \u001b[0;36mOracle.is_shift_gold\u001b[1;34m(self)\u001b[0m\n\u001b[0;32m     53\u001b[0m \u001b[39mif\u001b[39;00m \u001b[39mlen\u001b[39m(\u001b[39mself\u001b[39m\u001b[39m.\u001b[39mparser\u001b[39m.\u001b[39mbuffer) \u001b[39m==\u001b[39m \u001b[39m0\u001b[39m:\n\u001b[0;32m     54\u001b[0m  \u001b[39mreturn\u001b[39;00m \u001b[39mFalse\u001b[39;00m\n\u001b[1;32m---> 55\u001b[0m \u001b[39mif\u001b[39;00m (\u001b[39mself\u001b[39;49m\u001b[39m.\u001b[39;49mis_left_arc_gold() \u001b[39mor\u001b[39;00m \u001b[39mself\u001b[39m\u001b[39m.\u001b[39mis_right_arc_gold \u001b[39mor\u001b[39;00m \u001b[39mself\u001b[39m\u001b[39m.\u001b[39mis_reduce_gold()):\n\u001b[0;32m     56\u001b[0m  \u001b[39mreturn\u001b[39;00m \u001b[39mFalse\u001b[39;00m\n\u001b[0;32m     57\u001b[0m \u001b[39mreturn\u001b[39;00m \u001b[39mTrue\u001b[39;00m\n",
      "\u001b[1;31mKeyboardInterrupt\u001b[0m: "
     ]
    }
   ],
   "source": [
    "while not parser.is_tree_final():\n",
    "    if oracle.is_left_arc_gold():\n",
    "        parser.left_arc()\n",
    "    elif oracle.is_right_arc_gold():\n",
    "        parser.right_arc()\n",
    "    elif oracle.is_reduce_gold():\n",
    "        parser.reduce()\n",
    "    elif oracle.is_shift_gold():\n",
    "        parser.shift()\n",
    "        \n",
    "print(parser.arcs)\n",
    "print(gold)\n",
    "    "
   ]
  }
 ],
 "metadata": {
  "kernelspec": {
   "display_name": "Python 3",
   "language": "python",
   "name": "python3"
  },
  "language_info": {
   "codemirror_mode": {
    "name": "ipython",
    "version": 3
   },
   "file_extension": ".py",
   "mimetype": "text/x-python",
   "name": "python",
   "nbconvert_exporter": "python",
   "pygments_lexer": "ipython3",
   "version": "3.10.11"
  },
  "orig_nbformat": 4
 },
 "nbformat": 4,
 "nbformat_minor": 2
}
