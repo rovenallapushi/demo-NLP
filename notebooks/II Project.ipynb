{
 "cells": [
  {
   "cell_type": "code",
   "execution_count": null,
   "metadata": {},
   "outputs": [
    {
     "name": "stderr",
     "output_type": "stream",
     "text": [
      "C:\\Users\\roven\\AppData\\Local\\Packages\\PythonSoftwareFoundation.Python.3.10_qbz5n2kfra8p0\\LocalCache\\local-packages\\Python310\\site-packages\\tqdm\\auto.py:21: TqdmWarning: IProgress not found. Please update jupyter and ipywidgets. See https://ipywidgets.readthedocs.io/en/stable/user_install.html\n",
      "  from .autonotebook import tqdm as notebook_tqdm\n"
     ]
    }
   ],
   "source": [
    "from functools import partial\n",
    "from datasets import load_dataset\n",
    "import torch\n",
    "import torch.nn as nn"
   ]
  },
  {
   "cell_type": "code",
   "execution_count": 82,
   "metadata": {},
   "outputs": [],
   "source": [
    "class ArcEager:\n",
    "    def __init__(self, sentence):\n",
    "\n",
    "        # sentence is the input for which we want to build our Arc-Standard\n",
    "        self.sentence = sentence\n",
    "\n",
    "        # here we create the buffer having an array of indexes with the same length as the sentence\n",
    "        # basically, each word has its own index in this buffer\n",
    "        # we have initialized the buffer having all the words in the sentence\n",
    "\n",
    "        self.buffer = [i for i in range(len(self.sentence))] \n",
    "\n",
    "        # initialize the stack empty \n",
    "        \n",
    "        self.stack = []\n",
    "\n",
    "        # representation of the tree\n",
    "        # every word will have a -1 assigned -> no father has been assigned yet\n",
    "\n",
    "        self.arcs = [-1 for _ in range(len(self.sentence))]\n",
    "\n",
    "        # three shift moves to initialize the stack\n",
    "\n",
    "        # means that in the stack now is the ROOT\n",
    "        # self.shift() it calls a method that implements this operation; we will look at it after \n",
    "\n",
    "        self.shift() \n",
    "\n",
    "\n",
    "    def shift(self):\n",
    "       \n",
    "     b1 = self.buffer[0]\n",
    "     self.buffer = self.buffer[1:]\n",
    "     self.stack.append(b1)\n",
    "    \n",
    "    def left_arc(self): \n",
    "\n",
    "     o1 = self.stack.pop()\n",
    "     o2 = self.buffer[0]\n",
    "     self.arcs[o1] = o2\n",
    " \n",
    "    def right_arc(self):\n",
    "     o1 = self.buffer[0]\n",
    "     o2 = self.stack[-1]\n",
    "     self.arcs[o1] = o2\n",
    "     self.stack.append(o1)\n",
    "     self.buffer = self.buffer[1:]\n",
    "\n",
    "    def reduce(self):\n",
    "      self.stack.pop()\n",
    "\n",
    "    \n",
    "    def is_tree_final(self):\n",
    "     return len(self.stack) == 1 and len(self.buffer) == 0\n",
    "    \n",
    "\n",
    "    def print_configuration(self):\n",
    "\n",
    "      s = [self.sentence[i] for i in self.stack]\n",
    "      b = [self.sentence[i] for i in self.buffer]\n",
    "      print(s,b)\n",
    "      print(self.arcs)\n",
    "      "
   ]
  },
  {
   "cell_type": "code",
   "execution_count": 83,
   "metadata": {},
   "outputs": [
    {
     "name": "stdout",
     "output_type": "stream",
     "text": [
      "['<ROOT>'] ['He', 'wrote', 'her', 'a', 'letter', '.']\n",
      "[-1, -1, -1, -1, -1, -1, -1]\n"
     ]
    }
   ],
   "source": [
    "sentence = [\"<ROOT>\", \"He\",\"wrote\",\"her\",\"a\",\"letter\",\".\"]\n",
    "gold = [-1, 2, 0, 2, 5, 2, 2]\n",
    "\n",
    "parser = ArcEager(sentence)\n",
    "parser.print_configuration()"
   ]
  },
  {
   "cell_type": "code",
   "execution_count": 12,
   "metadata": {},
   "outputs": [],
   "source": [
    "class Oracle:\n",
    " \n",
    " def __init__(self, parser, gold_tree):\n",
    "  self.parser = parser\n",
    "  self.gold = gold_tree\n",
    "\n",
    " \n",
    " def has_head(self, top_stack):\n",
    "  if self.parser.arcs[top_stack] != -1:\n",
    "   return True\n",
    "  else:\n",
    "   return False\n",
    "\n",
    " def has_all_children(self, top_stack):\n",
    "  for i, arc in enumerate(self.gold):\n",
    "   if arc == top_stack and self.parser.arcs[i] != top_stack:\n",
    "    return False\n",
    "  return True\n",
    " \n",
    " def is_right_arc_gold(self):\n",
    "  if len(self.parser.buffer)==0:\n",
    "   return False\n",
    "  o1 = self.parser.buffer[0]\n",
    "  o2 = self.parser.stack[len(self.parser.stack)-1]\n",
    "  if self.gold[o1] != o2:\n",
    "   return False\n",
    "  \n",
    "  return True\n",
    "   \n",
    " def is_shift_gold(self):\n",
    "  if len(self.parser.buffer) == 0:\n",
    "   return False\n",
    "  \n",
    "\n",
    " \n",
    "\n",
    "\n",
    " \n",
    " \n",
    " \n",
    " def is_left_arc_gold(self):\n",
    "  \n",
    "  # we can do the left arc if sigma2 is the children of the sigma1\n",
    "  # this means that u have assigned to sigma2 all of its children and is ok to assing its parent -> static oracle\n",
    "  \n",
    "  # here we get our sigma1 and sigma2\n",
    "\n",
    "  o1 = self.parser.stack[len(self.parser.stack)-1]\n",
    "  o2 = self.parser.stack[len(self.parser.stack)-2]\n",
    "\n",
    "\n",
    "  if self.gold[o2] == o1:\n",
    "   return True\n",
    "  return False\n",
    "\n",
    " def is_shift_gold(self):\n",
    " \n",
    "  if len(self.parser.buffer) == 0:\n",
    "   return False\n",
    " \n",
    "  if (self.is_left_arc_gold() or self.is_right_arc_gold()):\n",
    "   return False\n",
    " \n",
    "  return True\n",
    "\n",
    " def is_right_arc_gold(self):\n",
    "   o1 = self.parser.stack[len(self.parser.stack)-1]\n",
    "   o2 = self.parser.stack[len(self.parser.stack)-2]\n",
    "\n",
    "   if self.gold[o1] != o2:\n",
    "    return False\n",
    "   \n",
    "   # we need to check that no children of sigma1 are in the rest of the buffer\n",
    "   \n",
    "   for i in self.parser.buffer:\n",
    "    if self.gold[i] == o1:\n",
    "     return False\n",
    "   return True"
   ]
  },
  {
   "cell_type": "code",
   "execution_count": 13,
   "metadata": {},
   "outputs": [
    {
     "name": "stdout",
     "output_type": "stream",
     "text": [
      "['<ROOT>', 'He', 'began'] ['to', 'write', 'again', '.']\n",
      "[-1, -1, -1, -1, -1, -1, -1]\n"
     ]
    }
   ],
   "source": [
    "sentence = [\"<ROOT>\", \"He\",\"began\",\"to\",\"write\",\"again\",\".\"]\n",
    "gold = [-1, 2, 0, 4, 2, 4, 2]\n",
    "\n",
    "parser = ArcEager(sentence)\n",
    "oracle = Oracle(parser, gold)\n",
    "\n",
    "parser.print_configuration()"
   ]
  },
  {
   "cell_type": "code",
   "execution_count": 14,
   "metadata": {},
   "outputs": [
    {
     "name": "stdout",
     "output_type": "stream",
     "text": [
      "Left Arc:  True\n",
      "Right Arc:  False\n",
      "Shift:  False\n"
     ]
    }
   ],
   "source": [
    "print(\"Left Arc: \" ,oracle.is_left_arc_gold())\n",
    "print(\"Right Arc: \",oracle.is_right_arc_gold())\n",
    "print(\"Shift: \",oracle.is_shift_gold())\n"
   ]
  },
  {
   "cell_type": "code",
   "execution_count": 15,
   "metadata": {},
   "outputs": [
    {
     "name": "stdout",
     "output_type": "stream",
     "text": [
      "['<ROOT>', 'to'] ['write', 'again', '.']\n",
      "[-1, -1, 3, -1, -1, -1, -1]\n"
     ]
    }
   ],
   "source": [
    "# oracle tells us that hte next move is the left_arc wqe do it and ask again the Oracle\n",
    "parser.left_arc()\n",
    "parser.print_configuration()"
   ]
  },
  {
   "cell_type": "code",
   "execution_count": 16,
   "metadata": {},
   "outputs": [
    {
     "name": "stdout",
     "output_type": "stream",
     "text": [
      "Left Arc:  False\n",
      "Right Arc:  False\n",
      "Shift:  True\n"
     ]
    }
   ],
   "source": [
    "print(\"Left Arc: \" ,oracle.is_left_arc_gold())\n",
    "print(\"Right Arc: \",oracle.is_right_arc_gold())\n",
    "print(\"Shift: \",oracle.is_shift_gold())"
   ]
  },
  {
   "cell_type": "code",
   "execution_count": 17,
   "metadata": {},
   "outputs": [
    {
     "ename": "KeyboardInterrupt",
     "evalue": "",
     "output_type": "error",
     "traceback": [
      "\u001b[1;31m---------------------------------------------------------------------------\u001b[0m",
      "\u001b[1;31mKeyboardInterrupt\u001b[0m                         Traceback (most recent call last)",
      "Cell \u001b[1;32mIn[17], line 4\u001b[0m\n\u001b[0;32m      2\u001b[0m \u001b[39mif\u001b[39;00m oracle\u001b[39m.\u001b[39mis_shift_gold():\n\u001b[0;32m      3\u001b[0m     parser\u001b[39m.\u001b[39mshift()\n\u001b[1;32m----> 4\u001b[0m \u001b[39melif\u001b[39;00m oracle\u001b[39m.\u001b[39;49mis_left_arc_gold():\n\u001b[0;32m      5\u001b[0m     parser\u001b[39m.\u001b[39mleft_arc()\n\u001b[0;32m      6\u001b[0m \u001b[39melif\u001b[39;00m oracle\u001b[39m.\u001b[39mis_right_arc_gold():\n",
      "Cell \u001b[1;32mIn[12], line 13\u001b[0m, in \u001b[0;36mOracle.is_left_arc_gold\u001b[1;34m(self)\u001b[0m\n\u001b[0;32m      6\u001b[0m \u001b[39mdef\u001b[39;00m \u001b[39mis_left_arc_gold\u001b[39m(\u001b[39mself\u001b[39m):\n\u001b[0;32m      7\u001b[0m  \n\u001b[0;32m      8\u001b[0m  \u001b[39m# we can do the left arc if sigma2 is the children of the sigma1\u001b[39;00m\n\u001b[0;32m      9\u001b[0m  \u001b[39m# this means that u have assigned to sigma2 all of its children and is ok to assing its parent -> static oracle\u001b[39;00m\n\u001b[0;32m     10\u001b[0m  \n\u001b[0;32m     11\u001b[0m  \u001b[39m# here we get our sigma1 and sigma2\u001b[39;00m\n\u001b[1;32m---> 13\u001b[0m  o1 \u001b[39m=\u001b[39m \u001b[39mself\u001b[39m\u001b[39m.\u001b[39mparser\u001b[39m.\u001b[39mstack[\u001b[39mlen\u001b[39;49m(\u001b[39mself\u001b[39;49m\u001b[39m.\u001b[39;49mparser\u001b[39m.\u001b[39;49mstack)\u001b[39m-\u001b[39m\u001b[39m1\u001b[39m]\n\u001b[0;32m     14\u001b[0m  o2 \u001b[39m=\u001b[39m \u001b[39mself\u001b[39m\u001b[39m.\u001b[39mparser\u001b[39m.\u001b[39mstack[\u001b[39mlen\u001b[39m(\u001b[39mself\u001b[39m\u001b[39m.\u001b[39mparser\u001b[39m.\u001b[39mstack)\u001b[39m-\u001b[39m\u001b[39m2\u001b[39m]\n\u001b[0;32m     17\u001b[0m  \u001b[39mif\u001b[39;00m \u001b[39mself\u001b[39m\u001b[39m.\u001b[39mgold[o2] \u001b[39m==\u001b[39m o1:\n",
      "\u001b[1;31mKeyboardInterrupt\u001b[0m: "
     ]
    }
   ],
   "source": [
    "while not parser.is_tree_final():\n",
    "    if oracle.is_shift_gold():\n",
    "        parser.shift()\n",
    "    elif oracle.is_left_arc_gold():\n",
    "        parser.left_arc()\n",
    "    elif oracle.is_right_arc_gold():\n",
    "        parser.right_arc()\n",
    "        \n",
    "print(parser.arcs)\n",
    "print(gold)\n",
    "    "
   ]
  }
 ],
 "metadata": {
  "kernelspec": {
   "display_name": "Python 3",
   "language": "python",
   "name": "python3"
  },
  "language_info": {
   "codemirror_mode": {
    "name": "ipython",
    "version": 3
   },
   "file_extension": ".py",
   "mimetype": "text/x-python",
   "name": "python",
   "nbconvert_exporter": "python",
   "pygments_lexer": "ipython3",
   "version": "3.10.11"
  },
  "orig_nbformat": 4
 },
 "nbformat": 4,
 "nbformat_minor": 2
}
