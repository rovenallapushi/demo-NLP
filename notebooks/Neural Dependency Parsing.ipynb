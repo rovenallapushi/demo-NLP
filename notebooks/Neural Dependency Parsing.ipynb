{
 "cells": [
  {
   "cell_type": "code",
   "execution_count": 1,
   "metadata": {},
   "outputs": [],
   "source": [
    "class ArcStandard:\n",
    "    def __init__(self, sentence):\n",
    "\n",
    "        # sentence is the input for which we want to build our Arc-Standard\n",
    "        self.sentence = sentence\n",
    "\n",
    "        # here we create the buffer having an array of indexes with the same length as the sentence\n",
    "        # basically, each word has its own index in this buffer\n",
    "        # we have initialized the buffer having all the words in the sentence\n",
    "\n",
    "        self.buffer = [i for i in range(len(self.sentence))] \n",
    "\n",
    "        # initialize the stack empty \n",
    "        \n",
    "        self.stack = []\n",
    "\n",
    "        # representation of the tree\n",
    "        # every word will have a -1 assigned -> no father has been assigned yet\n",
    "\n",
    "        self.arcs = [-1 for _ in range(len(self.sentence))]\n",
    "\n",
    "        # three shift moves to initialize the stack\n",
    "\n",
    "        # means that in the stack now is the ROOT\n",
    "        # self.shift() it calls a method that implements this operation; we will look at it after \n",
    "\n",
    "        self.shift() \n",
    "\n",
    "        # means that in the stack now is the ROOT and He; sigma1 is He and sigma2 is the ROOT\n",
    "\n",
    "        self.shift() \n",
    "\n",
    "        # until now we cannnot attach He to ROOT, if we cannot do that we add another element to the stack;\n",
    "        # so, perform another shift\n",
    "        # now, in the stack we have ROOT, He, began\n",
    "        if len(self.sentence) > 2:\n",
    "          self.shift()\n",
    "\n",
    "    def shift(self):\n",
    "       \n",
    "     b1 = self.buffer[0]\n",
    "     self.buffer = self.buffer[1:]\n",
    "     self.stack.append(b1)\n",
    "    \n",
    "    def left_arc(self): \n",
    "\n",
    "     o1 = self.stack.pop()\n",
    "     o2 = self.stack.pop()\n",
    "     self.arcs[o2] = o1\n",
    "     self.stack.append(o1)\n",
    "\n",
    "     if len(self.stack) < 2 and len(self.buffer) > 0:\n",
    "        self.shift()\n",
    "    \n",
    "\n",
    "    def right_arc(self):\n",
    "     o1 = self.stack.pop()\n",
    "     o2 = self.stack.pop()\n",
    "     self.arcs[o1] = o2\n",
    "     self.stack.append(o2)\n",
    "\n",
    "     if len(self.stack) <2 and len(self.buffer) > 0:\n",
    "        self.shift()\n",
    "    \n",
    "    def is_tree_final(self):\n",
    "     return len(self.stack) == 1 and len(self.buffer) == 0\n",
    "    \n",
    "\n",
    "    def print_configuration(self):\n",
    "\n",
    "      s = [self.sentence[i] for i in self.stack]\n",
    "      b = [self.sentence[i] for i in self.buffer]\n",
    "      print(s,b)\n",
    "      print(self.arcs)\n",
    "      "
   ]
  },
  {
   "cell_type": "code",
   "execution_count": 2,
   "metadata": {},
   "outputs": [
    {
     "name": "stdout",
     "output_type": "stream",
     "text": [
      "['<ROOT>', 'He', 'began'] ['to', 'write', 'again', '.']\n",
      "[-1, -1, -1, -1, -1, -1, -1]\n"
     ]
    }
   ],
   "source": [
    "sentence = [\"<ROOT>\", \"He\",\"began\",\"to\",\"write\",\"again\",\".\"]\n",
    "gold = [-1, 2, 0, 4, 2, 4, 2]\n",
    "\n",
    "parser = ArcStandard(sentence)\n",
    "parser.print_configuration()"
   ]
  },
  {
   "cell_type": "code",
   "execution_count": 3,
   "metadata": {},
   "outputs": [
    {
     "name": "stdout",
     "output_type": "stream",
     "text": [
      "['<ROOT>', 'began'] ['to', 'write', 'again', '.']\n",
      "[-1, 2, -1, -1, -1, -1, -1]\n"
     ]
    }
   ],
   "source": [
    "parser.left_arc()\n",
    "parser.print_configuration()"
   ]
  },
  {
   "cell_type": "code",
   "execution_count": 4,
   "metadata": {},
   "outputs": [
    {
     "name": "stdout",
     "output_type": "stream",
     "text": [
      "['<ROOT>', 'began', 'to'] ['write', 'again', '.']\n",
      "[-1, 2, -1, -1, -1, -1, -1]\n"
     ]
    }
   ],
   "source": [
    "parser.shift()\n",
    "parser.print_configuration()"
   ]
  },
  {
   "cell_type": "code",
   "execution_count": 5,
   "metadata": {},
   "outputs": [
    {
     "name": "stdout",
     "output_type": "stream",
     "text": [
      "['<ROOT>', 'began'] ['write', 'again', '.']\n",
      "[-1, 2, -1, 2, -1, -1, -1]\n"
     ]
    }
   ],
   "source": [
    "parser.right_arc()\n",
    "parser.print_configuration()\n",
    "\n",
    "# we are asking the parser to do this action of the right_arc; \"to\" has as a paretn \"write\" and \"began\""
   ]
  },
  {
   "cell_type": "code",
   "execution_count": 6,
   "metadata": {},
   "outputs": [],
   "source": [
    "class Oracle:\n",
    " def __init__(self, parser, gold_tree):\n",
    "  self.parser = parser\n",
    "  self.gold = gold_tree\n",
    "\n",
    " def is_left_arc_gold(self):\n",
    "  \n",
    "  # we can do the left arc if sigma2 is the children of the sigma1\n",
    "  # this means that u have assigned to sigma2 all of its children and is ok to assing its parent -> static oracle\n",
    "  \n",
    "  # here we get our sigma1 and sigma2\n",
    "\n",
    "  o1 = self.parser.stack[len(self.parser.stack)-1]\n",
    "  o2 = self.parser.stack[len(self.parser.stack)-2]\n",
    "\n",
    "\n",
    "  if self.gold[o2] == o1:\n",
    "   return True\n",
    "  return False\n",
    "\n",
    " def is_shift_gold(self):\n",
    " \n",
    "  if len(self.parser.buffer) == 0:\n",
    "   return False\n",
    " \n",
    "  if (self.is_left_arc_gold() or self.is_right_arc_gold()):\n",
    "   return False\n",
    " \n",
    "  return True\n",
    "\n",
    " def is_right_arc_gold(self):\n",
    "   o1 = self.parser.stack[len(self.parser.stack)-1]\n",
    "   o2 = self.parser.stack[len(self.parser.stack)-2]\n",
    "\n",
    "   if self.gold[o1] != o2:\n",
    "    return False\n",
    "   \n",
    "   # we need to check that no children of sigma1 are in the rest of the buffer\n",
    "   \n",
    "   for i in self.parser.buffer:\n",
    "    if self.gold[i] == o1:\n",
    "     return False\n",
    "   return True"
   ]
  },
  {
   "cell_type": "code",
   "execution_count": 7,
   "metadata": {},
   "outputs": [
    {
     "name": "stdout",
     "output_type": "stream",
     "text": [
      "['<ROOT>', 'He', 'began'] ['to', 'write', 'again', '.']\n",
      "[-1, -1, -1, -1, -1, -1, -1]\n"
     ]
    }
   ],
   "source": [
    "sentence = [\"<ROOT>\", \"He\",\"began\",\"to\",\"write\",\"again\",\".\"]\n",
    "gold = [-1, 2, 0, 4, 2, 4, 2]\n",
    "\n",
    "parser = ArcStandard(sentence)\n",
    "oracle = Oracle(parser, gold)\n",
    "\n",
    "parser.print_configuration()"
   ]
  },
  {
   "cell_type": "code",
   "execution_count": 8,
   "metadata": {},
   "outputs": [
    {
     "name": "stdout",
     "output_type": "stream",
     "text": [
      "Left Arc:  True\n",
      "Right Arc:  False\n",
      "Shift:  False\n"
     ]
    }
   ],
   "source": [
    "print(\"Left Arc: \" ,oracle.is_left_arc_gold())\n",
    "print(\"Right Arc: \",oracle.is_right_arc_gold())\n",
    "print(\"Shift: \",oracle.is_shift_gold())\n"
   ]
  },
  {
   "cell_type": "code",
   "execution_count": 9,
   "metadata": {},
   "outputs": [
    {
     "name": "stdout",
     "output_type": "stream",
     "text": [
      "['<ROOT>', 'began'] ['to', 'write', 'again', '.']\n",
      "[-1, 2, -1, -1, -1, -1, -1]\n"
     ]
    }
   ],
   "source": [
    "# oracle tells us that hte next move is the left_arc wqe do it and ask again the Oracle\n",
    "parser.left_arc()\n",
    "parser.print_configuration()"
   ]
  },
  {
   "cell_type": "code",
   "execution_count": 10,
   "metadata": {},
   "outputs": [
    {
     "name": "stdout",
     "output_type": "stream",
     "text": [
      "Left Arc:  False\n",
      "Right Arc:  False\n",
      "Shift:  True\n"
     ]
    }
   ],
   "source": [
    "print(\"Left Arc: \" ,oracle.is_left_arc_gold())\n",
    "print(\"Right Arc: \",oracle.is_right_arc_gold())\n",
    "print(\"Shift: \",oracle.is_shift_gold())"
   ]
  },
  {
   "cell_type": "code",
   "execution_count": 11,
   "metadata": {},
   "outputs": [
    {
     "name": "stdout",
     "output_type": "stream",
     "text": [
      "[-1, 2, 0, 4, 2, 4, 2]\n",
      "[-1, 2, 0, 4, 2, 4, 2]\n"
     ]
    }
   ],
   "source": [
    "while not parser.is_tree_final():\n",
    "    if oracle.is_shift_gold():\n",
    "        parser.shift()\n",
    "    elif oracle.is_left_arc_gold():\n",
    "        parser.left_arc()\n",
    "    elif oracle.is_right_arc_gold():\n",
    "        parser.right_arc()\n",
    "        \n",
    "print(parser.arcs)\n",
    "print(gold)\n",
    "    "
   ]
  }
 ],
 "metadata": {
  "kernelspec": {
   "display_name": "Python 3",
   "language": "python",
   "name": "python3"
  },
  "language_info": {
   "codemirror_mode": {
    "name": "ipython",
    "version": 3
   },
   "file_extension": ".py",
   "mimetype": "text/x-python",
   "name": "python",
   "nbconvert_exporter": "python",
   "pygments_lexer": "ipython3",
   "version": "3.10.11"
  },
  "orig_nbformat": 4
 },
 "nbformat": 4,
 "nbformat_minor": 2
}
